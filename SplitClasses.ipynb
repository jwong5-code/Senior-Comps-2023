{
 "cells": [
  {
   "cell_type": "code",
   "execution_count": null,
   "id": "7e4273c3",
   "metadata": {},
   "outputs": [],
   "source": [
    "import os\n",
    "import shutil\n",
    "\n",
    "original_folder = 'C:/Users/compsci6651/Desktop/HAM10000_images_part_1'\n",
    "augmented_folder = 'C:/Users/compsci6651/Desktop/Filtered_Images'\n",
    "labels_file_path = 'C:/Users/compsci6651/PycharmProjects/SeniorSem/HAM10000_metadata.txt'\n",
    "\n",
    "os.makedirs(augmented_folder, exist_ok=True)\n",
    "\n",
    "labels_dict = {}\n",
    "with open(labels_file_path, 'r', encoding='utf-8') as file:\n",
    "    next(file)\n",
    "    for line in file:\n",
    "        parts = line.strip().split(',')\n",
    "        image_id = parts[1]\n",
    "        label = parts[2]\n",
    "        if label in ['mel', 'nv']:\n",
    "            labels_dict[image_id] = label\n",
    "\n",
    "for image_filename in os.listdir(original_folder):\n",
    "    if image_filename.split('.')[0] in labels_dict:\n",
    "        source = os.path.join(original_folder, image_filename)\n",
    "        destination = os.path.join(filtered_folder, image_filename)\n",
    "        shutil.copy(source, destination)\n",
    "\n",
    "print(\"Selected images with 'mel' and 'nv' labels copied to the filtered folder.\")\n"
   ]
  }
 ],
 "metadata": {
  "kernelspec": {
   "display_name": "Python 3 (ipykernel)",
   "language": "python",
   "name": "python3"
  },
  "language_info": {
   "codemirror_mode": {
    "name": "ipython",
    "version": 3
   },
   "file_extension": ".py",
   "mimetype": "text/x-python",
   "name": "python",
   "nbconvert_exporter": "python",
   "pygments_lexer": "ipython3",
   "version": "3.11.5"
  }
 },
 "nbformat": 4,
 "nbformat_minor": 5
}
